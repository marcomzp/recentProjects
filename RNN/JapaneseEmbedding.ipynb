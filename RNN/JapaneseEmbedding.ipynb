{
  "nbformat": 4,
  "nbformat_minor": 0,
  "metadata": {
    "colab": {
      "name": "JapaneseEmbedding.ipynb",
      "provenance": [],
      "collapsed_sections": []
    },
    "kernelspec": {
      "name": "python3",
      "display_name": "Python 3"
    },
    "accelerator": "GPU"
  },
  "cells": [
    {
      "cell_type": "code",
      "metadata": {
        "colab": {
          "base_uri": "https://localhost:8080/"
        },
        "id": "fZ0y7FVIZzPY",
        "outputId": "c9fae9b4-066f-4613-91dd-b1ec06a9189e"
      },
      "source": [
        "%reset"
      ],
      "execution_count": 1,
      "outputs": [
        {
          "output_type": "stream",
          "text": [
            "Once deleted, variables cannot be recovered. Proceed (y/[n])? y\n"
          ],
          "name": "stdout"
        }
      ]
    },
    {
      "cell_type": "markdown",
      "metadata": {
        "id": "8KdPD7KlYKxF"
      },
      "source": [
        "# RNN for Japanese Phonology with Phoneme Embeddings\n",
        "\n",
        "This notebook contains the code which trains an RNN on the Corpus of Spontaneous Japanese to learn phonological patterns in Japanese.\n",
        "It was originally written by Brennan Dell and further modifications were made by Marco Fonseca. \n",
        "\n",
        "The RNN is trained using Keras. Additionally, the embeddings produced in this model are analyzed using principal component analysis, to determine what phonetic or articulatory features are picked up by the neural network.\n",
        "\n",
        "**Before running anything:**\n",
        "\n",
        "Make sure to set this notebook to run on a GPU. This drastically reduces the time needed to train the network. To do this, go to Edit-->Notebook Settings, and under Hardware Accelerator, select GPU.\n",
        "\n",
        "This project is largely based off of the work of Mirea and Bicknell (2019):\n",
        "\n",
        "https://www.aclweb.org/anthology/P19-1155/"
      ]
    },
    {
      "cell_type": "markdown",
      "metadata": {
        "id": "P3FYwFMCY4pj"
      },
      "source": [
        "## 1. Install the necessary dependencies\n",
        "\n",
        "The RNN is implemented in Keras, and some functions are used from sklearn to perform PCA, and split the corpus in to train, valid and test data. Furthermore, the NN performs random calculations each time it is run. In order to solve that, the \"seed\" fuctions at the end of the code are necessary. The parameters of the variables could be any numbers. See https://machinelearningmastery.com/reproducible-results-neural-networks-keras  for more details. \n",
        "\n"
      ]
    },
    {
      "cell_type": "code",
      "metadata": {
        "id": "jjJV1wnRXHyG",
        "colab": {
          "base_uri": "https://localhost:8080/"
        },
        "outputId": "6f814448-fccb-4c45-f300-b61882494230"
      },
      "source": [
        "# the required dependencies\n",
        "\n",
        "%tensorflow_version 1.x\n",
        "\n",
        "from nltk import FreqDist\n",
        "\n",
        "from keras.models import Sequential, load_model\n",
        "from keras.layers import Embedding, LSTM, Dense\n",
        "from keras.callbacks import EarlyStopping, ModelCheckpoint\n",
        "from keras.utils import to_categorical\n",
        "\n",
        "from sklearn.model_selection import train_test_split\n",
        "from sklearn.decomposition import PCA\n",
        "\n",
        "import os\n",
        "import numpy as np\n",
        "import re\n",
        "\n",
        "\n",
        "import matplotlib.pyplot as plt\n",
        "import matplotlib.patheffects as pe\n",
        "\n",
        "from numpy.random import seed\n",
        "seed(1)\n",
        "from tensorflow import set_random_seed\n",
        "set_random_seed(2)\n",
        "\n"
      ],
      "execution_count": 2,
      "outputs": [
        {
          "output_type": "stream",
          "text": [
            "TensorFlow 1.x selected.\n"
          ],
          "name": "stdout"
        },
        {
          "output_type": "stream",
          "text": [
            "Using TensorFlow backend.\n"
          ],
          "name": "stderr"
        }
      ]
    },
    {
      "cell_type": "markdown",
      "metadata": {
        "id": "xsHkRNAnZGfz"
      },
      "source": [
        "## 2. Connect this notebook to Google Drive to read in the CSJ corpus\n",
        "\n",
        "This code needs to be executed each time the notebook is restarted.\n",
        "\n",
        "Running this cell will print a URL. Go to this URL and log into your account. Afterwards, you will be given a code. Enter this code into the textbox below, and your drive will be accessible by this notebook.\n",
        "\n",
        "If your drive is mounted successfully, you should see \"Mounted at /content/drive\" below."
      ]
    },
    {
      "cell_type": "code",
      "metadata": {
        "id": "Mm5QnP1fXvXF",
        "colab": {
          "base_uri": "https://localhost:8080/"
        },
        "outputId": "f8a54730-f648-4a21-eab9-a2159762c8ab"
      },
      "source": [
        "# this code allows this notebook to access the google drive folder to read in the corpus\n",
        "# run this cell, and go to the link which is printed.\n",
        "# the link will tell you to sign in, and at the end will give you a code\n",
        "# copy this code and past it in the textbox that appears below.\n",
        "# this process needs to be repeated each time this notebook is restarted\n",
        "\n",
        "from google.colab import drive\n",
        "drive.mount('/content/drive')"
      ],
      "execution_count": 3,
      "outputs": [
        {
          "output_type": "stream",
          "text": [
            "Mounted at /content/drive\n"
          ],
          "name": "stdout"
        }
      ]
    },
    {
      "cell_type": "markdown",
      "metadata": {
        "id": "96OlnnJ3ZsAh"
      },
      "source": [
        "The files  'csj_proc_0.csv', 'csj_proc_1.csv', 'csj_proc_2.csv', 'csj_proc_3.csv' should be listed when this code is executed.\n",
        "\n",
        "If not, change the variable 'folder' to match the location of this notebook, and make sure the CSJ files are in the same directory."
      ]
    },
    {
      "cell_type": "code",
      "metadata": {
        "id": "-SH64CbsZaEj",
        "colab": {
          "base_uri": "https://localhost:8080/"
        },
        "outputId": "b5debb6f-3405-43ca-e04b-6970dac1df14"
      },
      "source": [
        "folder = '/content/drive/MyDrive/RNNs/Japanese/'\n",
        "\n",
        "print(os.listdir(folder))"
      ],
      "execution_count": 4,
      "outputs": [
        {
          "output_type": "stream",
          "text": [
            "['JapaneseEmbedding.ipynb', 'nonsense_nasals.csv', 'nonsense_geminates.csv', 'csj_proc_3.csv', 'csj_proc_2.csv', 'csj_proc_1.csv', 'csj_proc_0.csv']\n"
          ],
          "name": "stdout"
        }
      ]
    },
    {
      "cell_type": "markdown",
      "metadata": {
        "id": "uXj1O3G1aJJk"
      },
      "source": [
        "## 3. Read clean data from the CSJ corpus\n",
        "\n",
        "The files csj_proc_*.csv contain data extracted from the CSJ. This code extracts the phonetic transcription of the actual pronounced form of each word in the corpus.\n",
        "\n",
        "The phonetic transcriptions were originally represented in Katakana, and was converted to a phonetic code of our own creation using the Latin alphabet. Each latin letter corresponds to one Japanese phoneme. Affricates are represented as two separate consonants, geminates are represented by two consonants, and long vowels are represented by two vowels.\n",
        "\n",
        "Our phonetic transcription is listed in the dictionary below, which converts each Latin letter to the phoneme it represents in IPA.\n",
        "\n",
        "\n",
        "\n",
        "\n"
      ]
    },
    {
      "cell_type": "code",
      "metadata": {
        "id": "NQjo4WeXb87r"
      },
      "source": [
        "ipas = {\"a\":\t\"a\",\n",
        "  \"e\":\t\"e\",\n",
        "  \"i\":\t\"i\",\n",
        "  \"o\":\t\"o\",\n",
        "  \"u\":\t\"u\",\n",
        "  \"m\":\t\"m\",\n",
        "  \"p\":\t\"p\",\n",
        "  \"b\":\t\"b\",\n",
        "  \"f\":\t\"ɸ\",\n",
        "  \"v\":\t\"v\",\n",
        "  \"n\":\t\"n\",\n",
        "  \"t\":\t\"t\",\n",
        "  \"d\":\t\"d\",\n",
        "  \"s\":\t\"s\",\n",
        "  \"z\":\t\"z\",\n",
        "  \"r\":\t\"ɾ\",\n",
        "  \"M\":\t\"ɲ\",\n",
        "  \"S\":\t\"ɕ\",\n",
        "  \"Z\":\t\"ʑ\",\n",
        "  \"c\":\t\"ç\",\n",
        "  \"y\":\t\"j\",\n",
        "  \"G\":\t\"ŋ\",\n",
        "  \"k\":\t\"k\",\n",
        "  \"g\":\t\"g\",\n",
        "  \"w\":\t\"w\",\n",
        "  \"N\":\t\"ɴ\",\n",
        "  \"h\":\t\"h\"}\n",
        "\n",
        "def phon2ipa(char):\n",
        "  # word is a list of chars\n",
        "\n",
        "  if char in ipas:\n",
        "    return ipas[char]\n",
        "  else:\n",
        "    return char "
      ],
      "execution_count": 5,
      "outputs": []
    },
    {
      "cell_type": "markdown",
      "metadata": {
        "id": "3r-lRG1aZawA"
      },
      "source": [
        "Words which included sounds such as laughter or crying were filtered by the corpus. The words which only contain phonetic symbols are selected as our dataset.\n",
        "\n",
        "About 6,000,000 words will be read from the corpus, so it will take about 10 seconds for this code to execute.\n"
      ]
    },
    {
      "cell_type": "code",
      "metadata": {
        "id": "sx2Y9fO2aYAk",
        "colab": {
          "base_uri": "https://localhost:8080/"
        },
        "outputId": "889f3d69-921b-4e4c-8631-a8908b67082a"
      },
      "source": [
        "c0 = folder + 'csj_proc_0.csv'\n",
        "c1 = folder + 'csj_proc_1.csv'\n",
        "c2 = folder + 'csj_proc_2.csv'\n",
        "c3 = folder + 'csj_proc_3.csv'\n",
        "\n",
        "words = []\n",
        "\n",
        "for c in [c0, c1, c2, c3]:\n",
        "  with open(c, encoding=\"UTF-8\") as f:\n",
        "    next(f)\n",
        "    for line in f:\n",
        "      vals = line.split(',')\n",
        "\n",
        "      # index six contains the actual pronounced form\n",
        "      word = vals[6]\n",
        "\n",
        "      skip = None\n",
        "\n",
        "      for char in word:\n",
        "        # select words with only phonetic characters (no punctuation, no crying)\n",
        "        if char not in ipas.keys():\n",
        "         skip = True\n",
        "\n",
        "      if skip:\n",
        "        continue\n",
        "\n",
        "      words.append(vals[6])\n",
        "      #break\n",
        "\n",
        "print(\"{} words were read from the CSJ corpus\".format(len(words)))\n",
        "print(\"The first word is \\\"{}\\\"\".format(words[0]))\n",
        "print(\"The last word is \\\"{}\\\"\".format(words[-1]))"
      ],
      "execution_count": 6,
      "outputs": [
        {
          "output_type": "stream",
          "text": [
            "6021608 words were read from the CSJ corpus\n",
            "The first word is \"mazu\"\n",
            "The last word is \"masu\"\n"
          ],
          "name": "stdout"
        }
      ]
    },
    {
      "cell_type": "markdown",
      "metadata": {
        "id": "9zd5_CYNeTNn"
      },
      "source": [
        "## 4. Determine the word types\n",
        "\n",
        "Most words in the corpus (or in any language dataset) contain a small number of tokens which account for a majority of the corpus. See the 20 most common words from the corpus below, and see the amount of the corpus they produce.\n",
        "\n",
        "To reduce the size of the corpus, each word type will be used in our dataset, rather than each token. However, it may be the case that using word tokens would be more useful for the RNN. This question will be set aside for later research.\n",
        "\n",
        "Using only word types reduces the size of our dataset to around ~50,000"
      ]
    },
    {
      "cell_type": "code",
      "metadata": {
        "id": "hpC_QBQlckKW",
        "colab": {
          "base_uri": "https://localhost:8080/"
        },
        "outputId": "1315130a-74e4-4f59-fd89-9a5806ef6773"
      },
      "source": [
        "fd = FreqDist(words)\n",
        "\n",
        "print(\"word\".ljust(10), \"count\")\n",
        "print(\"*\"*30)\n",
        "for word, count in fd.most_common(20):\n",
        "  print(word.ljust(10), str(count).rjust(5))\n",
        "\n",
        "\n",
        "word_set = list(fd.keys())\n",
        "\n",
        "print(\"*\"*30)\n",
        "print()\n",
        "print(\"There are {} types in the corpus\".format(len(word_set)))"
      ],
      "execution_count": 7,
      "outputs": [
        {
          "output_type": "stream",
          "text": [
            "word       count\n",
            "******************************\n",
            "no         305519\n",
            "te         252460\n",
            "ni         234134\n",
            "to         231304\n",
            "de         198862\n",
            "ga         177707\n",
            "wa         163302\n",
            "o          160428\n",
            "ta         136837\n",
            "desu       124803\n",
            "yuu        111911\n",
            "Si         104959\n",
            "mo         95705\n",
            "ka         93301\n",
            "N          91167\n",
            "masu       89451\n",
            "na         75560\n",
            "koto       63118\n",
            "maSi       53067\n",
            "nai        45170\n",
            "******************************\n",
            "\n",
            "There are 50410 types in the corpus\n"
          ],
          "name": "stdout"
        }
      ]
    },
    {
      "cell_type": "markdown",
      "metadata": {
        "id": "tcE-yRmCfIFM"
      },
      "source": [
        "## 5. Create Character Encodings\n",
        "\n",
        "Neural networks are mathematical functions, so its inputs must be represented as numbers. The code below assings a unique integer to each character in the dataset. Two special tokens are introduced to indicate the end of a word, and to pad the word to a given length (to be explained later).\n",
        "\n",
        "Two dictionaries are created:\n",
        "- char2id - converts each Latin-based phoneme to its code\n",
        "- id2char - converts each code back to its Latin-based phoneme"
      ]
    },
    {
      "cell_type": "code",
      "metadata": {
        "id": "yH90b_BrdjzU"
      },
      "source": [
        "char2id = {}\n",
        "id2char = {}\n",
        "\n",
        "char2id[\"PAD\"] = 0\n",
        "char2id[\"END\"] = 1\n",
        "\n",
        "counter = 2\n",
        "for c in ipas.keys():\n",
        "  char2id[c] = counter\n",
        "  counter += 1\n",
        "\n",
        "for c in char2id:\n",
        "  currid = char2id[c]\n",
        "  id2char[currid] = c"
      ],
      "execution_count": 8,
      "outputs": []
    },
    {
      "cell_type": "markdown",
      "metadata": {
        "id": "_4wOyK6-gXWP"
      },
      "source": [
        "## 6. Convert Each Word Type to its Character Encoding\n",
        "\n",
        "The code below converts each word type from the corpus into a sequence of character codes, which are stored in a numpy array.\n",
        "\n",
        "Each character code sequence is padded such that all of the word representations are of the same length. The sequences are long enough such that the longest word plus the end token can be represented in the array.\n",
        "\n",
        "The sequences are written into the variable word_grid. The first index of word_grid accesses the word sequence, and the second index accesses each character:\n",
        "  - word_grid[word_ind, char_ind]"
      ]
    },
    {
      "cell_type": "code",
      "metadata": {
        "id": "eDb4gx0bfm41",
        "colab": {
          "base_uri": "https://localhost:8080/"
        },
        "outputId": "b5f542e6-60c7-4fa1-8684-765102f9a6b2"
      },
      "source": [
        "max_len = max(len(w) for w in word_set) + 1\n",
        "\n",
        "word_grid = np.zeros((len(word_set), max_len))\n",
        "\n",
        "for word_i in range(len(word_set)):\n",
        "  curr_word = word_set[word_i]\n",
        "  for char_i in range(len(curr_word)):\n",
        "    curr_char = curr_word[char_i]\n",
        "    word_grid[word_i, char_i] = char2id[curr_char]\n",
        "  \n",
        "  word_grid[word_i, len(curr_word)] = char2id[\"END\"]\n",
        "\n",
        "print('The longest word in the corpus is {} characters long'.format(max_len))\n",
        "\n",
        "example_index = 5\n",
        "\n",
        "print()\n",
        "print(\"*** Example word in the corpus ***\")\n",
        "print()\n",
        "print(word_set[example_index])\n",
        "\n",
        "print()\n",
        "print(\"*** The character codes ***\")\n",
        "print()\n",
        "for c in word_set[example_index]:\n",
        "  print(\" {:3} --> {}\".format(c, char2id[c]))\n",
        "print(\" {:3} --> {}\".format(\"END\", char2id[\"END\"]))\n",
        "print(\" {:3} --> {}\".format(\"PAD\", char2id[\"PAD\"]))\n",
        "\n",
        "print()\n",
        "print(\"*** The final padded array for \\\"{}\\\" ***\".format(word_set[example_index]))\n",
        "print(word_grid[example_index,:])\n",
        "\n",
        "print()\n",
        "print(\"*\" * 30)\n",
        "print(\"The final dimensions of the word array: {}\".format(word_grid.shape))"
      ],
      "execution_count": 9,
      "outputs": [
        {
          "output_type": "stream",
          "text": [
            "The longest word in the corpus is 24 characters long\n",
            "\n",
            "*** Example word in the corpus ***\n",
            "\n",
            "kantaN\n",
            "\n",
            "*** The character codes ***\n",
            "\n",
            " k   --> 24\n",
            " a   --> 2\n",
            " n   --> 12\n",
            " t   --> 13\n",
            " a   --> 2\n",
            " N   --> 27\n",
            " END --> 1\n",
            " PAD --> 0\n",
            "\n",
            "*** The final padded array for \"kantaN\" ***\n",
            "[24.  2. 12. 13.  2. 27.  1.  0.  0.  0.  0.  0.  0.  0.  0.  0.  0.  0.\n",
            "  0.  0.  0.  0.  0.  0.]\n",
            "\n",
            "******************************\n",
            "The final dimensions of the word array: (50410, 24)\n"
          ],
          "name": "stdout"
        }
      ]
    },
    {
      "cell_type": "markdown",
      "metadata": {
        "id": "q-wmlWEfgZNv"
      },
      "source": [
        "## 7. Create an object which creates one-hot encodings\n",
        "\n",
        "We chose to represent each character in the neural network with a one-hot vector. A one-hot vector is a vector which contains a single 1, and all of its other values are 0. For our purposes, the index of the 1 in the one-hot vector corresponds to the character code of the phoneme.\n",
        "\n",
        "The one-hot vector can be interpretted as a probability distribution, where each value represents the likelihood of each character. The input to the neural network will represent the probability of each character with 100%, and the output of the neural network will reflect the uncertainty of the network for each character."
      ]
    },
    {
      "cell_type": "code",
      "metadata": {
        "id": "oJiIKsp5l8_W",
        "colab": {
          "base_uri": "https://localhost:8080/"
        },
        "outputId": "cecbdec3-b439-4b60-ad8d-1f9ef8472270"
      },
      "source": [
        "print(\"*** Example character:\\n    \\\"{}\\\"\".format('a'))\n",
        "print(\"*** Code for \\\"{}\\\":\\n    {}\".format('a', char2id['a']))\n",
        "print(\"*** One-hot vector for \\\"{}\\\":\\n    {}\"\\\n",
        "      .format('a', to_categorical(char2id['a'], num_classes=len(char2id))))\n"
      ],
      "execution_count": 10,
      "outputs": [
        {
          "output_type": "stream",
          "text": [
            "*** Example character:\n",
            "    \"a\"\n",
            "*** Code for \"a\":\n",
            "    2\n",
            "*** One-hot vector for \"a\":\n",
            "    [0. 0. 1. 0. 0. 0. 0. 0. 0. 0. 0. 0. 0. 0. 0. 0. 0. 0. 0. 0. 0. 0. 0. 0.\n",
            " 0. 0. 0. 0. 0.]\n"
          ],
          "name": "stdout"
        }
      ]
    },
    {
      "cell_type": "markdown",
      "metadata": {
        "id": "cmkqhFaxp7VJ"
      },
      "source": [
        "Note that the one-hot vectors are much larger than the characters or the character codes. If the entire dataset were converted to one-hot vectors, the dataset would be too large to handle:"
      ]
    },
    {
      "cell_type": "code",
      "metadata": {
        "id": "kDX9ZEZYmBGs",
        "colab": {
          "base_uri": "https://localhost:8080/"
        },
        "outputId": "fe978ab7-2bd0-44a7-ddd9-dc2db8aa3469"
      },
      "source": [
        "print(\"Values needed for one-hot encodings for entire dataset: {}\"\n",
        "  .format(len(word_set) * max_len * len(char2id)))"
      ],
      "execution_count": null,
      "outputs": [
        {
          "output_type": "stream",
          "text": [
            "Values needed for one-hot encodings for entire dataset: 35085360\n"
          ],
          "name": "stdout"
        }
      ]
    },
    {
      "cell_type": "markdown",
      "metadata": {
        "id": "ekU4MH6Iq2Q4"
      },
      "source": [
        "To alleviate this problem, an object can be created which generates the one-hot vectors only for the characters needed, instead of creating one-hot vectors for the entire training set."
      ]
    },
    {
      "cell_type": "code",
      "metadata": {
        "id": "ufaZYwj1qzPW"
      },
      "source": [
        "class BatchGenerator:\n",
        "  def __init__(self, words, num_steps, batch_size, num_phonemes):\n",
        "    # an array of sentences, represented as words with ordinal codes\n",
        "    self.words = words\n",
        "    self.num_steps = num_steps\n",
        "    self.batch_size = batch_size\n",
        "    self.num_phonemes = num_phonemes\n",
        "\n",
        "    self.index = 0\n",
        "\n",
        "    self.end_code = char2id[\"END\"]\n",
        "\n",
        "  def generate(self):\n",
        "    x = np.zeros((self.batch_size, self.num_steps))\n",
        "    y = np.zeros((self.batch_size, self.num_steps, self.num_phonemes))\n",
        "\n",
        "    while True:\n",
        "      for i in range(self.batch_size):\n",
        "        x[i, :] = self.words[self.index]\n",
        "\n",
        "        # shift the outputs over by one index\n",
        "        temp_y = np.append(self.words[self.index,1:], self.end_code)\n",
        "\n",
        "        y[i, :, :] = to_categorical(temp_y, num_classes=self.num_phonemes)\n",
        "\n",
        "        self.index += 1\n",
        "        if self.index >= len(self.words):\n",
        "          self.index = 0\n",
        "      yield x, y"
      ],
      "execution_count": 11,
      "outputs": []
    },
    {
      "cell_type": "markdown",
      "metadata": {
        "id": "JmgdWFp5rzoA"
      },
      "source": [
        "The code below shows how the BatchGenerator object can be used.\n",
        "\n",
        "train_gen.generate() returns an iterator which creates each batch of input words, along with its expected output as a one-hot vector.\n",
        "\n",
        "The number of words used in a particular batch can be modified with the batch_size parameter."
      ]
    },
    {
      "cell_type": "code",
      "metadata": {
        "id": "0QFoamH3rE0S",
        "colab": {
          "base_uri": "https://localhost:8080/"
        },
        "outputId": "6705a0dc-5805-429c-8daf-236369f847c1"
      },
      "source": [
        "batch_size = 2\n",
        "\n",
        "train_gen = BatchGenerator(word_grid, max_len, batch_size, len(char2id))\n",
        "\n",
        "for x, y in train_gen.generate():\n",
        "  print(\"Inputs:\")\n",
        "  print(x)\n",
        "  print()\n",
        "  print(\"Input shape: {}\".format(x.shape))\n",
        "\n",
        "  print()\n",
        "  print(\"Targets:\")\n",
        "  print(y)\n",
        "  print()\n",
        "  print(\"Target shape: {}\".format(y.shape))\n",
        "\n",
        "  # stop the loop because this is just an example\n",
        "  break"
      ],
      "execution_count": 12,
      "outputs": [
        {
          "output_type": "stream",
          "text": [
            "Inputs:\n",
            "[[ 7.  2. 16.  6.  1.  0.  0.  0.  0.  0.  0.  0.  0.  0.  0.  0.  0.  0.\n",
            "   0.  0.  0.  0.  0.  0.]\n",
            " [28.  2.  8.  8. 22.  5.  5.  1.  0.  0.  0.  0.  0.  0.  0.  0.  0.  0.\n",
            "   0.  0.  0.  0.  0.  0.]]\n",
            "\n",
            "Input shape: (2, 24)\n",
            "\n",
            "Targets:\n",
            "[[[0. 0. 1. ... 0. 0. 0.]\n",
            "  [0. 0. 0. ... 0. 0. 0.]\n",
            "  [0. 0. 0. ... 0. 0. 0.]\n",
            "  ...\n",
            "  [1. 0. 0. ... 0. 0. 0.]\n",
            "  [1. 0. 0. ... 0. 0. 0.]\n",
            "  [0. 1. 0. ... 0. 0. 0.]]\n",
            "\n",
            " [[0. 0. 1. ... 0. 0. 0.]\n",
            "  [0. 0. 0. ... 0. 0. 0.]\n",
            "  [0. 0. 0. ... 0. 0. 0.]\n",
            "  ...\n",
            "  [1. 0. 0. ... 0. 0. 0.]\n",
            "  [1. 0. 0. ... 0. 0. 0.]\n",
            "  [0. 1. 0. ... 0. 0. 0.]]]\n",
            "\n",
            "Target shape: (2, 24, 29)\n"
          ],
          "name": "stdout"
        }
      ]
    },
    {
      "cell_type": "markdown",
      "metadata": {
        "id": "RXE75aFtt5FL"
      },
      "source": [
        "## 8. Set up the neural architecture\n",
        "\n",
        "This code sets up the neural architecture in Keras.\n",
        "\n",
        "We chose to implement a two-layered LSTM RNN.\n",
        "\n",
        "The input to the network is an embedding layer. This layer is a linear transformation which converts a character code to a vector of a given size (embedding_size). As the network trains, the embedding vector for each character will adjust, such that similar characters will develop similar embeddings. These embeddings will be analyzed later in this notebook.\n",
        "\n",
        "The embeddings are fed into an LSTM layer. LSTM was used by Mirea and Bicknell.\n",
        "\n",
        "The output of the LSTM layer is fed to a second LSTM layer. (Found to be ideal by Mirea and Bicknell).\n",
        "\n",
        "The output of the second LSTM layer is provided to a \"Dense\" (feed-forward) layer. This converts the output of the LSTM to a one-hot vector, which represents the RNNs output.\n",
        "\n",
        "The code below constructs the network, and prints a summary of the number of adjustable parameters needed for the network. This network contains around 3,000,000 parameters.\n",
        "\n",
        "The network is evaluated with a categorical cross entropy loss function, which is ideal for one-hot vector outputs. The \"Adam\" optimizer is the chosen method of gradient descent."
      ]
    },
    {
      "cell_type": "code",
      "metadata": {
        "id": "Ovma2-lzt4OE",
        "colab": {
          "base_uri": "https://localhost:8080/"
        },
        "outputId": "dd84212e-bae2-4e9e-dabe-30e11c1f35d8"
      },
      "source": [
        "# hyperparameters\n",
        "batch_size = 4000\n",
        "num_epochs = 50\n",
        "embedding_size = 10\n",
        "lstm_size = 512\n",
        "stopping_patience = 5\n",
        "\n",
        "model1 = Sequential()\n",
        "model1.add(Embedding(len(char2id), embedding_size, input_length = max_len, mask_zero=True))\n",
        "model1.add(LSTM(lstm_size, return_sequences=True))\n",
        "model1.add(LSTM(lstm_size, return_sequences=True))\n",
        "model1.add(Dense(len(char2id), activation = 'softmax'))\n",
        "model1.compile(loss = 'categorical_crossentropy', optimizer = 'adam', metrics=['accuracy'])\n",
        "print(model1.summary())"
      ],
      "execution_count": 13,
      "outputs": [
        {
          "output_type": "stream",
          "text": [
            "WARNING:tensorflow:From /tensorflow-1.15.2/python3.6/tensorflow_core/python/ops/resource_variable_ops.py:1630: calling BaseResourceVariable.__init__ (from tensorflow.python.ops.resource_variable_ops) with constraint is deprecated and will be removed in a future version.\n",
            "Instructions for updating:\n",
            "If using Keras pass *_constraint arguments to layers.\n",
            "WARNING:tensorflow:From /tensorflow-1.15.2/python3.6/tensorflow_core/python/keras/backend.py:3994: where (from tensorflow.python.ops.array_ops) is deprecated and will be removed in a future version.\n",
            "Instructions for updating:\n",
            "Use tf.where in 2.0, which has the same broadcast rule as np.where\n",
            "Model: \"sequential_1\"\n",
            "_________________________________________________________________\n",
            "Layer (type)                 Output Shape              Param #   \n",
            "=================================================================\n",
            "embedding_1 (Embedding)      (None, 24, 10)            290       \n",
            "_________________________________________________________________\n",
            "lstm_1 (LSTM)                (None, 24, 512)           1071104   \n",
            "_________________________________________________________________\n",
            "lstm_2 (LSTM)                (None, 24, 512)           2099200   \n",
            "_________________________________________________________________\n",
            "dense_1 (Dense)              (None, 24, 29)            14877     \n",
            "=================================================================\n",
            "Total params: 3,185,471\n",
            "Trainable params: 3,185,471\n",
            "Non-trainable params: 0\n",
            "_________________________________________________________________\n",
            "None\n"
          ],
          "name": "stdout"
        }
      ]
    },
    {
      "cell_type": "markdown",
      "metadata": {
        "id": "ZXBbLf9qw103"
      },
      "source": [
        "## 9. Create batch generators for the train and validation data\n",
        "\n",
        "The code below divides the corpus into train, valid, and test sets, and produces BatchGenerators to be used to train the network."
      ]
    },
    {
      "cell_type": "code",
      "metadata": {
        "id": "UqJxe5MTsKu0",
        "colab": {
          "base_uri": "https://localhost:8080/"
        },
        "outputId": "bb49556a-6e30-499f-c408-cc31a80b64ff"
      },
      "source": [
        "X_train, X_test = train_test_split(word_grid, test_size=0.3)\n",
        "\n",
        "X_train, X_valid = train_test_split(X_train, test_size=0.2)\n",
        "\n",
        "train_gen = BatchGenerator(X_train, max_len, batch_size, len(char2id))\n",
        "valid_gen = BatchGenerator(X_valid, max_len, batch_size, len(char2id))\n",
        "\n",
        "\n",
        "print(\"Shape of training data:\", X_train.shape)\n",
        "print(\"Shape of validation data:\", X_valid.shape)\n",
        "print(\"Shape of test data:\", X_test.shape)"
      ],
      "execution_count": 14,
      "outputs": [
        {
          "output_type": "stream",
          "text": [
            "Shape of training data: (28229, 24)\n",
            "Shape of validation data: (7058, 24)\n",
            "Shape of test data: (15123, 24)\n"
          ],
          "name": "stdout"
        }
      ]
    },
    {
      "cell_type": "markdown",
      "metadata": {
        "id": "Gzje1WRQxpTE"
      },
      "source": [
        "## 10. Train the neural network\n",
        "\n",
        "The code below executes the training process for the neural network.\n",
        "\n",
        "The \"stop\" variable here is used to perform early-stopping, i.e. to halt the training process after the validation accuracy does not improve for a specified number of times (stopping_patience). This ensures the training process runs long enough to reach its best performing state, and halt before overfitting.\n",
        "\n",
        "**Make sure the notebook has been set to run on a GPU, otherwise the training process will take much longer to finish. Note that when you change the hardware accelerator for a notebook, the notebook restarts.**"
      ]
    },
    {
      "cell_type": "code",
      "metadata": {
        "id": "VjcIiyzHxPmI",
        "colab": {
          "base_uri": "https://localhost:8080/"
        },
        "outputId": "37d67705-eb3f-4d94-919e-e3e17aa75293"
      },
      "source": [
        "stop = EarlyStopping(monitor = 'val_accuracy', min_delta = 0, \n",
        "                             patience = stopping_patience, \n",
        "                              verbose = 1, mode = 'auto',\n",
        "                              restore_best_weights=True)\n",
        "\n",
        "#save = ModelCheckpoint(address, monitor = 'val_loss', \n",
        "#                               verbose = 0, save_best_only = True)\n",
        "\n",
        "cbs = [stop]\n",
        "\n",
        "history = model1.fit_generator(train_gen.generate(), \n",
        "                               len(X_train) // batch_size, \n",
        "                               num_epochs,\n",
        "                               validation_data = valid_gen.generate(),\n",
        "                               validation_steps = len(X_valid) // batch_size,\n",
        "                               #validation_freq=[1] + list(range(0, num_epochs, 10)),\n",
        "                               callbacks=cbs,\n",
        "                               )"
      ],
      "execution_count": 15,
      "outputs": [
        {
          "output_type": "stream",
          "text": [
            "WARNING:tensorflow:From /tensorflow-1.15.2/python3.6/keras/backend/tensorflow_backend.py:422: The name tf.global_variables is deprecated. Please use tf.compat.v1.global_variables instead.\n",
            "\n",
            "Epoch 1/50\n",
            "7/7 [==============================] - 9s 1s/step - loss: 1.1819 - accuracy: 0.1069 - val_loss: 1.0624 - val_accuracy: 0.1329\n",
            "Epoch 2/50\n",
            "7/7 [==============================] - 5s 783ms/step - loss: 1.0670 - accuracy: 0.1113 - val_loss: 1.0343 - val_accuracy: 0.1433\n",
            "Epoch 3/50\n",
            "7/7 [==============================] - 6s 791ms/step - loss: 1.0247 - accuracy: 0.1371 - val_loss: 0.9925 - val_accuracy: 0.1419\n",
            "Epoch 4/50\n",
            "7/7 [==============================] - 6s 794ms/step - loss: 1.0130 - accuracy: 0.1679 - val_loss: 1.0094 - val_accuracy: 0.1909\n",
            "Epoch 5/50\n",
            "7/7 [==============================] - 6s 798ms/step - loss: 1.0014 - accuracy: 0.1919 - val_loss: 0.9761 - val_accuracy: 0.2030\n",
            "Epoch 6/50\n",
            "7/7 [==============================] - 6s 802ms/step - loss: 0.9933 - accuracy: 0.1986 - val_loss: 0.9889 - val_accuracy: 0.1984\n",
            "Epoch 7/50\n",
            "7/7 [==============================] - 6s 805ms/step - loss: 0.9863 - accuracy: 0.1984 - val_loss: 0.9697 - val_accuracy: 0.2017\n",
            "Epoch 8/50\n",
            "7/7 [==============================] - 6s 812ms/step - loss: 0.9800 - accuracy: 0.2032 - val_loss: 0.9645 - val_accuracy: 0.2010\n",
            "Epoch 9/50\n",
            "7/7 [==============================] - 6s 814ms/step - loss: 0.9746 - accuracy: 0.2029 - val_loss: 0.9692 - val_accuracy: 0.2008\n",
            "Epoch 10/50\n",
            "7/7 [==============================] - 6s 822ms/step - loss: 0.9656 - accuracy: 0.2100 - val_loss: 0.9429 - val_accuracy: 0.2096\n",
            "Epoch 11/50\n",
            "7/7 [==============================] - 6s 825ms/step - loss: 0.9602 - accuracy: 0.2147 - val_loss: 0.9583 - val_accuracy: 0.2267\n",
            "Epoch 12/50\n",
            "7/7 [==============================] - 6s 837ms/step - loss: 0.9493 - accuracy: 0.2345 - val_loss: 0.9148 - val_accuracy: 0.2709\n",
            "Epoch 13/50\n",
            "7/7 [==============================] - 6s 836ms/step - loss: 0.9296 - accuracy: 0.2546 - val_loss: 0.9134 - val_accuracy: 0.2373\n",
            "Epoch 14/50\n",
            "7/7 [==============================] - 6s 837ms/step - loss: 0.8883 - accuracy: 0.2793 - val_loss: 0.8477 - val_accuracy: 0.2889\n",
            "Epoch 15/50\n",
            "7/7 [==============================] - 6s 851ms/step - loss: 0.8395 - accuracy: 0.3039 - val_loss: 0.8016 - val_accuracy: 0.3167\n",
            "Epoch 16/50\n",
            "7/7 [==============================] - 6s 855ms/step - loss: 0.8078 - accuracy: 0.3267 - val_loss: 0.7966 - val_accuracy: 0.3396\n",
            "Epoch 17/50\n",
            "7/7 [==============================] - 6s 860ms/step - loss: 0.7633 - accuracy: 0.3529 - val_loss: 0.7459 - val_accuracy: 0.3574\n",
            "Epoch 18/50\n",
            "7/7 [==============================] - 6s 868ms/step - loss: 0.7618 - accuracy: 0.3572 - val_loss: 0.8177 - val_accuracy: 0.3444\n",
            "Epoch 19/50\n",
            "7/7 [==============================] - 6s 864ms/step - loss: 0.7530 - accuracy: 0.3624 - val_loss: 0.7140 - val_accuracy: 0.3694\n",
            "Epoch 20/50\n",
            "7/7 [==============================] - 6s 869ms/step - loss: 0.7483 - accuracy: 0.3642 - val_loss: 0.8290 - val_accuracy: 0.3417\n",
            "Epoch 21/50\n",
            "7/7 [==============================] - 6s 872ms/step - loss: 0.7424 - accuracy: 0.3671 - val_loss: 0.7094 - val_accuracy: 0.3764\n",
            "Epoch 22/50\n",
            "7/7 [==============================] - 6s 886ms/step - loss: 0.7221 - accuracy: 0.3746 - val_loss: 0.7141 - val_accuracy: 0.3805\n",
            "Epoch 23/50\n",
            "7/7 [==============================] - 6s 895ms/step - loss: 0.7326 - accuracy: 0.3746 - val_loss: 0.7991 - val_accuracy: 0.3579\n",
            "Epoch 24/50\n",
            "7/7 [==============================] - 6s 887ms/step - loss: 0.7333 - accuracy: 0.3761 - val_loss: 0.7008 - val_accuracy: 0.3838\n",
            "Epoch 25/50\n",
            "7/7 [==============================] - 6s 873ms/step - loss: 0.7193 - accuracy: 0.3817 - val_loss: 0.7140 - val_accuracy: 0.3847\n",
            "Epoch 26/50\n",
            "7/7 [==============================] - 6s 867ms/step - loss: 0.7383 - accuracy: 0.3756 - val_loss: 0.6914 - val_accuracy: 0.3888\n",
            "Epoch 27/50\n",
            "7/7 [==============================] - 6s 868ms/step - loss: 0.7201 - accuracy: 0.3827 - val_loss: 0.7081 - val_accuracy: 0.3849\n",
            "Epoch 28/50\n",
            "7/7 [==============================] - 6s 866ms/step - loss: 0.7196 - accuracy: 0.3825 - val_loss: 0.6900 - val_accuracy: 0.3915\n",
            "Epoch 29/50\n",
            "7/7 [==============================] - 6s 866ms/step - loss: 0.7229 - accuracy: 0.3836 - val_loss: 0.6989 - val_accuracy: 0.3917\n",
            "Epoch 30/50\n",
            "7/7 [==============================] - 6s 871ms/step - loss: 0.7111 - accuracy: 0.3869 - val_loss: 0.6880 - val_accuracy: 0.3965\n",
            "Epoch 31/50\n",
            "7/7 [==============================] - 6s 869ms/step - loss: 0.7117 - accuracy: 0.3876 - val_loss: 0.6857 - val_accuracy: 0.3947\n",
            "Epoch 32/50\n",
            "7/7 [==============================] - 6s 873ms/step - loss: 0.7243 - accuracy: 0.3848 - val_loss: 0.6950 - val_accuracy: 0.3986\n",
            "Epoch 33/50\n",
            "7/7 [==============================] - 6s 876ms/step - loss: 0.7023 - accuracy: 0.3932 - val_loss: 0.6688 - val_accuracy: 0.4027\n",
            "Epoch 34/50\n",
            "7/7 [==============================] - 6s 876ms/step - loss: 0.7016 - accuracy: 0.3929 - val_loss: 0.6899 - val_accuracy: 0.3975\n",
            "Epoch 35/50\n",
            "7/7 [==============================] - 6s 878ms/step - loss: 0.7107 - accuracy: 0.3904 - val_loss: 0.6695 - val_accuracy: 0.4056\n",
            "Epoch 36/50\n",
            "7/7 [==============================] - 6s 876ms/step - loss: 0.7072 - accuracy: 0.3904 - val_loss: 0.6831 - val_accuracy: 0.3974\n",
            "Epoch 37/50\n",
            "7/7 [==============================] - 6s 878ms/step - loss: 0.6853 - accuracy: 0.3993 - val_loss: 0.7225 - val_accuracy: 0.3922\n",
            "Epoch 38/50\n",
            "7/7 [==============================] - 6s 875ms/step - loss: 0.6995 - accuracy: 0.3965 - val_loss: 0.6670 - val_accuracy: 0.4054\n",
            "Epoch 39/50\n",
            "7/7 [==============================] - 6s 875ms/step - loss: 0.6925 - accuracy: 0.3979 - val_loss: 0.6768 - val_accuracy: 0.4032\n",
            "Epoch 40/50\n",
            "7/7 [==============================] - 6s 875ms/step - loss: 0.6870 - accuracy: 0.4000 - val_loss: 0.6584 - val_accuracy: 0.4075\n",
            "Epoch 41/50\n",
            "7/7 [==============================] - 6s 871ms/step - loss: 0.6970 - accuracy: 0.3979 - val_loss: 0.6719 - val_accuracy: 0.4074\n",
            "Epoch 42/50\n",
            "7/7 [==============================] - 6s 873ms/step - loss: 0.6776 - accuracy: 0.4054 - val_loss: 0.7156 - val_accuracy: 0.3961\n",
            "Epoch 43/50\n",
            "7/7 [==============================] - 6s 874ms/step - loss: 0.6997 - accuracy: 0.4004 - val_loss: 0.7164 - val_accuracy: 0.3943\n",
            "Epoch 44/50\n",
            "7/7 [==============================] - 6s 879ms/step - loss: 0.6944 - accuracy: 0.4011 - val_loss: 0.6953 - val_accuracy: 0.4049\n",
            "Epoch 45/50\n",
            "7/7 [==============================] - 6s 876ms/step - loss: 0.6741 - accuracy: 0.4095 - val_loss: 0.6539 - val_accuracy: 0.4147\n",
            "Epoch 46/50\n",
            "7/7 [==============================] - 6s 875ms/step - loss: 0.6739 - accuracy: 0.4100 - val_loss: 0.6799 - val_accuracy: 0.4103\n",
            "Epoch 47/50\n",
            "7/7 [==============================] - 6s 875ms/step - loss: 0.6704 - accuracy: 0.4117 - val_loss: 0.6420 - val_accuracy: 0.4184\n",
            "Epoch 48/50\n",
            "7/7 [==============================] - 6s 875ms/step - loss: 0.6666 - accuracy: 0.4131 - val_loss: 0.6516 - val_accuracy: 0.4228\n",
            "Epoch 49/50\n",
            "7/7 [==============================] - 6s 876ms/step - loss: 0.6785 - accuracy: 0.4093 - val_loss: 0.6388 - val_accuracy: 0.4229\n",
            "Epoch 50/50\n",
            "7/7 [==============================] - 6s 875ms/step - loss: 0.6571 - accuracy: 0.4178 - val_loss: 0.6482 - val_accuracy: 0.4224\n"
          ],
          "name": "stdout"
        }
      ]
    },
    {
      "cell_type": "markdown",
      "metadata": {
        "id": "PyqfEMJg1dGZ"
      },
      "source": [
        "## 11. Get example output\n",
        "\n",
        "Data from the test set can be provided to the model to show its prediction. The code below provides a sample for the RNNs output given a word from the test data.\n",
        "\n",
        "Note that the phones in the output will look incoherent, but this is to be expected. For example, if the RNN has seen that a word begins with \"n\", there is no way to know for sure which phone should follow, however, that phone should be a vowel rather than a consonant. The neural network will be trained to notice patterns like these, even if it cannot predict a word perfectly."
      ]
    },
    {
      "cell_type": "code",
      "metadata": {
        "id": "_m3QLvkL0LTP",
        "colab": {
          "base_uri": "https://localhost:8080/"
        },
        "outputId": "b8ea217a-cbc9-4ed5-9f61-20924781c4c4"
      },
      "source": [
        "prediction = model1.predict(X_test[:10])\n",
        "\n",
        "\n",
        "\n",
        "#print(\"prediction:\", prediction)\n",
        "#print(prediction.shape)\n",
        "\n",
        "#for i in range(prediction.shape[0]):\n",
        "for i in range(10):\n",
        "  # selects the largest value in the output vector as the prediction for the character\n",
        "  am = np.argmax(prediction[i], axis=1)\n",
        "  print(\"*\" * 80)\n",
        "  print(\"input  >>\", ' '.join([id2char[i] for i in X_test[i]]).replace(\"PAD\", \"_\"))\n",
        "  print(\"output >>\", ' '.join([id2char[i] for i in am]).replace(\"PAD\", \"_\"))"
      ],
      "execution_count": 16,
      "outputs": [
        {
          "output_type": "stream",
          "text": [
            "********************************************************************************\n",
            "input  >> m a y o n y e e z u END _ _ _ _ _ _ _ _ _ _ _ _ _\n",
            "output >> a k u k a u END END u END _ _ _ _ _ _ _ _ _ _ _ _ _ _\n",
            "********************************************************************************\n",
            "input  >> b a a n a a END _ _ _ _ _ _ _ _ _ _ _ _ _ _ _ _ _\n",
            "output >> a k t a a END _ _ _ _ _ _ _ _ _ _ _ _ _ _ _ _ _ _\n",
            "********************************************************************************\n",
            "input  >> k i r e t t o END _ _ _ _ _ _ _ _ _ _ _ _ _ _ _ _\n",
            "output >> a r a r s o END _ _ _ _ _ _ _ _ _ _ _ _ _ _ _ _ _\n",
            "********************************************************************************\n",
            "input  >> n i S i y a m a END _ _ _ _ _ _ _ _ _ _ _ _ _ _ _\n",
            "output >> a r i k u END a END _ _ _ _ _ _ _ _ _ _ _ _ _ _ _ _\n",
            "********************************************************************************\n",
            "input  >> t u k u S i END _ _ _ _ _ _ _ _ _ _ _ _ _ _ _ _ _\n",
            "output >> a r a r i END _ _ _ _ _ _ _ _ _ _ _ _ _ _ _ _ _ _\n",
            "********************************************************************************\n",
            "input  >> c u u r i s u t i k k u r u u r u END _ _ _ _ _ _\n",
            "output >> a r r u END u END o END u u END u END END u END _ _ _ _ _ _ _\n",
            "********************************************************************************\n",
            "input  >> m a k u r a s u k i END _ _ _ _ _ _ _ _ _ _ _ _ _\n",
            "output >> a k u r a END u END a END _ _ _ _ _ _ _ _ _ _ _ _ _ _\n",
            "********************************************************************************\n",
            "input  >> d Z a m b u d a i END _ _ _ _ _ _ _ _ _ _ _ _ _ _\n",
            "output >> o i k a a r Z i END _ _ _ _ _ _ _ _ _ _ _ _ _ _ _\n",
            "********************************************************************************\n",
            "input  >> y a k i s o b a END _ _ _ _ _ _ _ _ _ _ _ _ _ _ _\n",
            "output >> u k u r u END u END _ _ _ _ _ _ _ _ _ _ _ _ _ _ _ _\n",
            "********************************************************************************\n",
            "input  >> k i z a m u END _ _ _ _ _ _ _ _ _ _ _ _ _ _ _ _ _\n",
            "output >> a r u k a END _ _ _ _ _ _ _ _ _ _ _ _ _ _ _ _ _ _\n"
          ],
          "name": "stdout"
        }
      ]
    },
    {
      "cell_type": "markdown",
      "metadata": {
        "id": "MHU6RWCa3wWz"
      },
      "source": [
        "## 12. Perform PCA on the embedding layer\n",
        "\n",
        "PCA is a common technique for dimensionality reduction in data mining, and it is useful to determine the features which the character embeddings have picked up.\n",
        "\n",
        "https://en.wikipedia.org/wiki/Principal_component_analysis\n",
        "\n",
        "Once the model is trained, the embedding layer can be accessed like so:"
      ]
    },
    {
      "cell_type": "code",
      "metadata": {
        "id": "5uGRPGCf1aiN",
        "colab": {
          "base_uri": "https://localhost:8080/"
        },
        "outputId": "9c97d912-a589-4fc6-a6a4-370c79389da0"
      },
      "source": [
        "# use index 0 since the embedding layer is the first layer in the NN\n",
        "emb_layer = model1.layers[0].get_weights()[0]\n",
        "\n",
        "example_char = \"a\"\n",
        "\n",
        "print(\"Embedding for \\\"{}\\\":\\n{}\".format(example_char, emb_layer[char2id[example_char]]))"
      ],
      "execution_count": 17,
      "outputs": [
        {
          "output_type": "stream",
          "text": [
            "Embedding for \"a\":\n",
            "[-0.12988766 -0.08677385  0.05302275 -0.00993915  0.04365344  0.09942126\n",
            "  0.04032748 -0.01021578  0.0539858   0.1347695 ]\n"
          ],
          "name": "stdout"
        }
      ]
    },
    {
      "cell_type": "markdown",
      "metadata": {
        "id": "T8D72IU54uAD"
      },
      "source": [
        "Visualizing each of these vectors in 10-dimensional space is infeasible, so PCA can be used to find the two most significant dimensions which explain most of the variance, and plot the embeddings along those dimensions.\n",
        "\n",
        "Notice how vowels tend to cluster on one side of the plot, while consonants cluster on the other. Further phonetic correspondances can likely be found by visualizing more of the principal components. This could be explained in future work."
      ]
    },
    {
      "cell_type": "code",
      "metadata": {
        "id": "O3i_FU0s4h9a",
        "colab": {
          "base_uri": "https://localhost:8080/",
          "height": 619
        },
        "outputId": "e740ca7a-3d07-4153-b079-4497ed2524e5"
      },
      "source": [
        "pca = PCA()\n",
        "\n",
        "pca.fit(emb_layer)\n",
        "\n",
        "print(\"Explained variance by PC1 (x-axis): \", pca.explained_variance_ratio_[0])\n",
        "print(\"Explained variance by PC2 (y-axis): \", pca.explained_variance_ratio_[1])\n",
        "\n",
        "\n",
        "trans_vects = pca.transform(emb_layer)\n",
        "\n",
        "char_labels = [phon2ipa(id2char[i]) for i in range(len(id2char))]\n",
        "\n",
        "plt.figure(figsize=(12, 9))\n",
        "\n",
        "for c, x, y in zip(char_labels, trans_vects[:,0], trans_vects[:,1]):\n",
        "  if c == \"END\" or c == \"PAD\":\n",
        "    continue\n",
        "\n",
        "  color = \"blue\"\n",
        "  if c in ['a', 'e', 'i', 'o', 'u', 'ɴ', 'ŋ', 'END', 'PAD']:\n",
        "    color = \"red\"\n",
        "\n",
        "  # print(c, x, y)\n",
        "  plt.scatter(x, y, color=color)\n",
        "  plt.text(x+0.01, y+0.01, c, fontsize=16)\n",
        "  \n",
        "plt.title(\"PCA on Phoneme Embeddings\", fontsize=24)\n",
        "\n",
        "plt.axis('equal')\n",
        "plt.xlabel(\"PC 1 ({:.2f} % of the variance)\".format(pca.explained_variance_ratio_[0] * 100), fontsize=20)\n",
        "plt.ylabel(\"PC 2 ({:.2f} % of the variance)\".format(pca.explained_variance_ratio_[1] * 100), fontsize=20)\n",
        "plt.show()"
      ],
      "execution_count": 18,
      "outputs": [
        {
          "output_type": "stream",
          "text": [
            "Explained variance by PC1 (x-axis):  0.7081278\n",
            "Explained variance by PC2 (y-axis):  0.18319204\n"
          ],
          "name": "stdout"
        },
        {
          "output_type": "display_data",
          "data": {
            "image/png": "[encoded data removed]",
            "text/plain": [
              "<Figure size 864x648 with 1 Axes>"
            ]
          },
          "metadata": {
            "tags": [],
            "needs_background": "light"
          }
        }
      ]
    },
    {
      "cell_type": "markdown",
      "metadata": {
        "id": "A0Mje0qWJjg_"
      },
      "source": [
        "## 13. Creating and reading nonsense words for test data set\n",
        "\n",
        "Nonsense words for nasal assimilation had the form CVNCV, where N is a nasal consonant. Nonsense words for geminates had the form OVSV and OVGV, where O is an obstruent, and S and G are singleton and geminate stops respectively."
      ]
    },
    {
      "cell_type": "code",
      "metadata": {
        "id": "ObsB491i5XPO",
        "colab": {
          "base_uri": "https://localhost:8080/"
        },
        "outputId": "612ae12d-89c8-45bf-8bbe-01da9d6236de"
      },
      "source": [
        "gem_file = folder + 'nonsense_geminates.csv'\n",
        "nas_file = folder + 'nonsense_nasals.csv'\n",
        "\n",
        "nasal_words = []\n",
        "with open(nas_file) as f:\n",
        "  next(f)\n",
        "  nasal_words = f.readlines()\n",
        "  nasal_words = [word[:-1] for word in nasal_words]\n",
        "\n",
        "print(nasal_words[:10])\n",
        "\n",
        "nasal_grid = np.zeros((len(nasal_words), max_len)) #\n",
        "\n",
        "for word_i in range(len(nasal_words)):\n",
        "  curr_word = nasal_words[word_i]\n",
        "  for char_i in range(len(curr_word)):\n",
        "    curr_char = curr_word[char_i]\n",
        "    nasal_grid[word_i, char_i] = char2id[curr_char]\n",
        "  \n",
        "  nasal_grid[word_i, len(curr_word)] = char2id[\"END\"]\n",
        "\n",
        "#\n",
        "# Geminates\n",
        "#\n",
        "\n",
        "gem_words = []\n",
        "#with open(gem_file) as f:\n",
        "#  next(f)\n",
        "#  gem_words = f.readlines()\n",
        "#  gem_words = [word[1:-2] for word in gem_words]\n",
        "#               \n",
        "#print(gem_words[:10])\n",
        "\n",
        "for v2 in \"aeiou\":\n",
        "  for c2 in \"pbfvtdszSZckgh\":\n",
        "    for v1 in \"aeiou\":\n",
        "      for c1 in \"pbfvtdszSZckgh\":\n",
        "        gem_words.append(c1 + v1 + c2 + v2)\n",
        "\n",
        "for v2 in \"aeiou\":\n",
        "  for c2 in \"pbfvtdszSZckgh\":\n",
        "    for v1 in \"aeiou\":\n",
        "      for c1 in \"pbfvtdszSZckgh\":\n",
        "        gem_words.append(c1 + v1 + c2 + c2 + v2)\n",
        "\n",
        "for v3 in \"aeiou\":\n",
        "  for c3 in \"pbfvtdszSZckgh\":\n",
        "    for v2 in \"aeiou\":\n",
        "      for c2 in \"pbfvtdszSZckgh\":\n",
        "        for v1 in \"aeiou\":\n",
        "          for c1 in \"pbfvtdszSZckgh\":\n",
        "            gem_words.append(c1 + v1 + c2 + v2 + c3 + v3)\n",
        "\n",
        "for v3 in \"aeiou\":\n",
        "  for c3 in \"pbfvtdszSZckgh\":\n",
        "    for v2 in \"aeiou\":\n",
        "      for c2 in \"pbfvtdszSZckgh\":\n",
        "        for v1 in \"aeiou\":\n",
        "          for c1 in \"pbfvtdszSZckgh\":\n",
        "            gem_words.append(c1 + v1 + c2 + v2 + c3 + c3 + v3)\n",
        "\n",
        "gem_grid = np.zeros((len(gem_words), max_len))\n",
        "\n",
        "for word_i in range(len(gem_words)):\n",
        "  curr_word = gem_words[word_i]\n",
        "  for char_i in range(len(curr_word)):\n",
        "    curr_char = curr_word[char_i]\n",
        "    gem_grid[word_i, char_i] = char2id[curr_char]\n",
        "  \n",
        "  gem_grid[word_i, len(curr_word)] = char2id[\"END\"]\n",
        "\n",
        "print(nasal_grid.shape)\n",
        "print(gem_grid.shape)\n",
        "gem_words[10000:10010]"
      ],
      "execution_count": 19,
      "outputs": [
        {
          "output_type": "stream",
          "text": [
            "['panma', 'banma', 'fanma', 'vanma', 'nanma', 'tanma', 'danma', 'sanma', 'zanma', 'ranma']\n",
            "(61049, 24)\n",
            "(695800, 24)\n"
          ],
          "name": "stdout"
        },
        {
          "output_type": "execute_result",
          "data": {
            "text/plain": [
              "['tufapa',\n",
              " 'dufapa',\n",
              " 'sufapa',\n",
              " 'zufapa',\n",
              " 'Sufapa',\n",
              " 'Zufapa',\n",
              " 'cufapa',\n",
              " 'kufapa',\n",
              " 'gufapa',\n",
              " 'hufapa']"
            ]
          },
          "metadata": {
            "tags": []
          },
          "execution_count": 19
        }
      ]
    },
    {
      "cell_type": "markdown",
      "metadata": {
        "id": "7XIw9w4URF4b"
      },
      "source": [
        "## 13. Removing words that already existed in the CSJ\n",
        "There could be nonsense words that already existed in the CSJ, so this is to make sure that they are deleted.\n",
        "A function to calculated how long it takes for the NN to run was also added. \n",
        "\n"
      ]
    },
    {
      "cell_type": "code",
      "metadata": {
        "id": "xLa6uBJrRV7k",
        "colab": {
          "base_uri": "https://localhost:8080/"
        },
        "outputId": "6e6c759b-3025-4e4c-c800-b8f24706624a"
      },
      "source": [
        "japanese_word_set = set(word_set) #list of all real words \n",
        "\n",
        "thecount = 0 #going through each of the nasal words and checcking if it is a word or not \n",
        "for word in nasal_words: \n",
        "  if word in japanese_word_set:\n",
        "    thecount += 1\n",
        "    #print(word, end=\" \")\n",
        "\n",
        "print(thecount) #how many words you are removing\n",
        "print(len(japanese_word_set))\n",
        "print(len(nasal_words)) \n",
        "\n"
      ],
      "execution_count": 20,
      "outputs": [
        {
          "output_type": "stream",
          "text": [
            "820\n",
            "50410\n",
            "61049\n"
          ],
          "name": "stdout"
        }
      ]
    },
    {
      "cell_type": "markdown",
      "metadata": {
        "id": "-TYjUyrWSB-Q"
      },
      "source": [
        "##14. Calculating cross entropy for nasals"
      ]
    },
    {
      "cell_type": "code",
      "metadata": {
        "id": "kplG7I40S3xp",
        "colab": {
          "base_uri": "https://localhost:8080/"
        },
        "outputId": "63c2a817-4256-460f-dd57-198a265533b4"
      },
      "source": [
        "def pred_words(x_in, mod, verbose=False): #t\n",
        "#cross entropy function, predict gets the y \n",
        "\n",
        "  y = mod.predict(x_in)\n",
        "\n",
        "  #print(y)\n",
        "\n",
        "  temp_y = np.append(x_in[:,1:], char2id[\"PAD\"])\n",
        "\n",
        "  target = np.zeros(y.shape)\n",
        "\n",
        "  for i in range(target.shape[0]): #how different is the prediction from the output. it gets the true output \n",
        "  #and generates the one hot vactor of charcater \n",
        "    #x are the character umbers. changing the charcters into teh enxt. \n",
        "    temp_y = np.append(x_in[i,1:], char2id[\"PAD\"])\n",
        "    target[i, :,  :] = to_categorical(temp_y, num_classes = y.shape[2]) #to categorical makes the one hot vectod\n",
        "\n",
        "  loss, acc = mod.evaluate(x_in, target, verbose=0)\n",
        "\n",
        "  if verbose:\n",
        "    print('loss', loss)\n",
        "\n",
        "  return loss\n",
        "\n",
        "print(nasal_grid[0])"
      ],
      "execution_count": 21,
      "outputs": [
        {
          "output_type": "stream",
          "text": [
            "[ 8.  2. 12.  7.  2.  1.  0.  0.  0.  0.  0.  0.  0.  0.  0.  0.  0.  0.\n",
            "  0.  0.  0.  0.  0.  0.]\n"
          ],
          "name": "stdout"
        }
      ]
    },
    {
      "cell_type": "code",
      "metadata": {
        "colab": {
          "base_uri": "https://localhost:8080/"
        },
        "id": "2EYi2nWiYmmt",
        "outputId": "dd4b2fca-b36c-48b3-9d4c-5f09295c1f01"
      },
      "source": [
        "import time #timing how long it takes to run a word thorugh the NN\n",
        "\n",
        "start = time.time()\n",
        "\n",
        "for i in range(200):\n",
        "  pred_words(nasal_grid[i:i+1], model1)\n",
        "\n",
        "print(time.time()-start) #how much time "
      ],
      "execution_count": 24,
      "outputs": [
        {
          "output_type": "stream",
          "text": [
            "9.6084623336792\n"
          ],
          "name": "stdout"
        }
      ]
    },
    {
      "cell_type": "code",
      "metadata": {
        "colab": {
          "base_uri": "https://localhost:8080/"
        },
        "id": "tOSPDYt_Yv2u",
        "outputId": "056a5334-1c1f-4f6c-c476-7af85500138d"
      },
      "source": [
        "def nasal_indices(words, nasal_c, env_c): #which nonsese words have labial before n. returns the indices that have it.  \n",
        "  envs = [nasal_c + cons for cons in env_c]\n",
        "\n",
        "  is_context = [(word[2:4] in envs) and (word not in japanese_word_set) for word in words] #make sure its true nonsenewordsx\n",
        "\n",
        "  return np.where(is_context)[0]\n",
        "\n",
        "len(nasal_indices(nasal_words, \"n\", \"pbfv\"))\n",
        "#the loss should be high"
      ],
      "execution_count": 25,
      "outputs": [
        {
          "output_type": "execute_result",
          "data": {
            "text/plain": [
              "2200"
            ]
          },
          "metadata": {
            "tags": []
          },
          "execution_count": 25
        }
      ]
    },
    {
      "cell_type": "code",
      "metadata": {
        "id": "PKA5faKyYz1k"
      },
      "source": [
        "nps = nasal_grid[nasal_indices(nasal_words, \"n\", \"pbfv\")]\n",
        "#how you select the nasal words from the grid (matrix of characters)"
      ],
      "execution_count": 26,
      "outputs": []
    },
    {
      "cell_type": "code",
      "metadata": {
        "colab": {
          "base_uri": "https://localhost:8080/"
        },
        "id": "Y23htXyIY0x7",
        "outputId": "021aaae6-8adb-47c0-9063-91c1f467be9c"
      },
      "source": [
        "nasal_ents = []\n",
        "\n",
        "for nasal in \"mnMG\":\n",
        "  for environment in [\"pb\", \"tdsz\", \"y\", \"kg\"]:\n",
        "    selected_indices = nasal_indices(nasal_words, nasal, environment)\n",
        "\n",
        "    selected_ids = nasal_grid[selected_indices]\n",
        "\n",
        "    print(selected_ids.shape) #how many of the nasal words have that property. the nasal indices will do the vocab\n",
        "    #check. \n",
        "\n",
        "    print(nasal, environment, selected_ids.shape)\n",
        "\n",
        "    ent = pred_words(selected_ids, model1)\n",
        "    print(ent)\n",
        "    nasal_ents.append(ent)\n",
        "  print()\n",
        "\n"
      ],
      "execution_count": 27,
      "outputs": [
        {
          "output_type": "stream",
          "text": [
            "(994, 24)\n",
            "m pb (994, 24)\n",
            "0.5415963506554694\n",
            "(2200, 24)\n",
            "m tdsz (2200, 24)\n",
            "0.609951704415408\n",
            "(547, 24)\n",
            "m y (547, 24)\n",
            "0.5531665619592127\n",
            "(1100, 24)\n",
            "m kg (1100, 24)\n",
            "0.599907211823897\n",
            "\n",
            "(1100, 24)\n",
            "n pb (1100, 24)\n",
            "0.6298077266866511\n",
            "(2003, 24)\n",
            "n tdsz (2003, 24)\n",
            "0.5333741087349307\n",
            "(540, 24)\n",
            "n y (540, 24)\n",
            "0.597791827166522\n",
            "(1100, 24)\n",
            "n kg (1100, 24)\n",
            "0.6395719372142445\n",
            "\n",
            "(1100, 24)\n",
            "M pb (1100, 24)\n",
            "0.6516146378083663\n",
            "(2200, 24)\n",
            "M tdsz (2200, 24)\n",
            "0.7186430512775074\n",
            "(530, 24)\n",
            "M y (530, 24)\n",
            "0.654448625951443\n",
            "(1100, 24)\n",
            "M kg (1100, 24)\n",
            "0.693476308259097\n",
            "\n",
            "(1100, 24)\n",
            "G pb (1100, 24)\n",
            "0.663421944921667\n",
            "(2200, 24)\n",
            "G tdsz (2200, 24)\n",
            "0.6880425000190735\n",
            "(550, 24)\n",
            "G y (550, 24)\n",
            "0.6605825903198935\n",
            "(903, 24)\n",
            "G kg (903, 24)\n",
            "0.4771621342777282\n",
            "\n"
          ],
          "name": "stdout"
        }
      ]
    },
    {
      "cell_type": "markdown",
      "metadata": {
        "id": "tfuM1RXgS_NH"
      },
      "source": [
        "## 15 . Plotting cross entropy for nasals\n",
        "\n",
        "\n",
        "\n",
        "\n",
        "\n"
      ]
    },
    {
      "cell_type": "code",
      "metadata": {
        "id": "3SkdYy3bTBv8",
        "colab": {
          "base_uri": "https://localhost:8080/",
          "height": 410
        },
        "outputId": "3d10327f-e240-4d48-a268-00925e5df428"
      },
      "source": [
        "matfig = plt.figure(figsize=(20,5))\n",
        "\n",
        "nasal_np = np.reshape(nasal_ents, (4,4))\n",
        "\n",
        "im = plt.matshow(nasal_np, cmap=\"viridis_r\", label=\"Cross Entropy\", fignum=matfig.number, vmin=0.4, vmax=0.8)\n",
        "# good colors - winter_r , viridis_r\n",
        "\n",
        "ax = plt.gca()\n",
        "\n",
        "for i in range(nasal_np.shape[0]):\n",
        "    for j in range(nasal_np.shape[1]):\n",
        "        text = ax.text(j, i, \"{:.2f}\".format(nasal_np[i, j]),\n",
        "                       ha=\"center\", va=\"center\", color=\"w\", fontsize=18)\n",
        "        text.set_path_effects([pe.withStroke(linewidth=4, foreground='k')])\n",
        "\n",
        "cbar = ax.figure.colorbar(im, ax=ax)\n",
        "cbar.ax.set_ylabel(\"Cross-Entropy\", rotation=-90, va=\"bottom\", fontsize=16)\n",
        "\n",
        "#plt.imshow(-np.reshape(means, (5,4)))\n",
        "\n",
        "plt.xticks([0, 1, 2, 3], [\"__ [+labial]\", \"__ [+coronal]\", \"__ [+palatal]\", \"__ [+velar]\"], fontsize=16, rotation=45)\n",
        "plt.yticks([0, 1, 2, 3], [\" m\", \" n\", \" \" + phon2ipa(\"M\"), phon2ipa(\"G\")], fontsize=16, rotation=0)\n",
        "\n",
        "plt.show()"
      ],
      "execution_count": 29,
      "outputs": [
        {
          "output_type": "display_data",
          "data": {
            "image/png": "[encoded data removed]",
            "text/plain": [
              "<Figure size 1440x360 with 2 Axes>"
            ]
          },
          "metadata": {
            "tags": [],
            "needs_background": "light"
          }
        }
      ]
    },
    {
      "cell_type": "markdown",
      "metadata": {
        "id": "8jzHwoodYyoM"
      },
      "source": [
        "## 16 . Repeating the same steps (creating non-sense words, calculating cross entropy and plotting it) for geminates\n",
        "\n"
      ]
    },
    {
      "cell_type": "code",
      "metadata": {
        "colab": {
          "base_uri": "https://localhost:8080/"
        },
        "id": "G2ogDn8mWqNw",
        "outputId": "9a244711-796f-4419-8d63-1826c6fcf7d2"
      },
      "source": [
        "len(gem_words)"
      ],
      "execution_count": 30,
      "outputs": [
        {
          "output_type": "execute_result",
          "data": {
            "text/plain": [
              "695800"
            ]
          },
          "metadata": {
            "tags": []
          },
          "execution_count": 30
        }
      ]
    },
    {
      "cell_type": "code",
      "metadata": {
        "id": "PR6P_Cu1YDVF"
      },
      "source": [
        "def gem_indices(words, c1, c2, c3=None):\n",
        "  envs = [re.split(\"[aeiou]\", word)[:-1] for word in words]\n",
        "\n",
        "  not_is_japanese = [word not in japanese_word_set for word in words]\n",
        "\n",
        "  if c3 is None:\n",
        "    is_context = [len(chars) == 2 and chars[0] in c1 and chars[1] in c2 for chars in envs]\n",
        "  else:\n",
        "    is_context = [len(chars) == 3 and chars[0] in c1 and chars[1] in c2 and chars[2] in c3 for chars in envs]\n",
        "\n",
        "  return np.where(np.logical_and(is_context, not_is_japanese))[0]"
      ],
      "execution_count": 31,
      "outputs": []
    },
    {
      "cell_type": "code",
      "metadata": {
        "colab": {
          "base_uri": "https://localhost:8080/"
        },
        "id": "v7V3zdUpYGau",
        "outputId": "58b25007-6a60-446a-a365-6a3a8b3b36ab"
      },
      "source": [
        "np.array(gem_words)[(gem_indices(gem_words, [\"s\"], [\"r\"]))]\n",
        "not_is_japanese = [word not in japanese_word_set for word in gem_words]\n",
        "len(np.where(not_is_japanese)[0])"
      ],
      "execution_count": 32,
      "outputs": [
        {
          "output_type": "execute_result",
          "data": {
            "text/plain": [
              "693781"
            ]
          },
          "metadata": {
            "tags": []
          },
          "execution_count": 32
        }
      ]
    },
    {
      "cell_type": "code",
      "metadata": {
        "colab": {
          "base_uri": "https://localhost:8080/"
        },
        "id": "uggqplmXYjvy",
        "outputId": "1c46d12d-7544-41fc-dff6-7df049604c19"
      },
      "source": [
        "voiced_c = list(\"bvdzZg\")\n",
        "voiceless_c = list(\"pftsSckh\")\n",
        "\n",
        "voiced_sing = [\"b\", \"d\", \"g\"]\n",
        "voiceless_sing = [\"p\", \"t\", \"k\"]\n",
        "\n",
        "voiced_gems = [\"bb\", \"dd\", \"gg\"]\n",
        "voiceless_gems = [\"pp\", \"tt\", \"kk\"]\n",
        "\n",
        "gem_ents = []\n",
        "\n",
        "# voiced vs voiceless geminates: 1 mora\n",
        "for c1 in [voiced_c, voiceless_c]:\n",
        "  for g2 in [voiced_gems, voiceless_gems]:\n",
        "    print(c1, g2)\n",
        "    curr_inds = gem_indices(gem_words, c1, g2)\n",
        "\n",
        "    selected_ids = gem_grid[curr_inds]\n",
        "\n",
        "    print(selected_ids.shape)\n",
        "\n",
        "    ent = pred_words(selected_ids, model1)\n",
        "    print(ent)\n",
        "    gem_ents.append(ent)\n",
        "\n",
        "sing_ents = []\n",
        "\n",
        "# voiced vs voiceless singletons: 1 mora\n",
        "for c1 in [voiced_c, voiceless_c]:\n",
        "  for g2 in [voiced_sing, voiceless_sing]:\n",
        "    print(c1, g2)\n",
        "    curr_inds = gem_indices(gem_words, c1, g2)\n",
        "\n",
        "    selected_ids = gem_grid[curr_inds]\n",
        "\n",
        "    print(selected_ids.shape)\n",
        "\n",
        "    ent = pred_words(selected_ids, model1)\n",
        "    print(ent)\n",
        "    sing_ents.append(ent)\n",
        "\n"
      ],
      "execution_count": 33,
      "outputs": [
        {
          "output_type": "stream",
          "text": [
            "['b', 'v', 'd', 'z', 'Z', 'g'] ['bb', 'dd', 'gg']\n",
            "(439, 24)\n",
            "0.5806512873373705\n",
            "['b', 'v', 'd', 'z', 'Z', 'g'] ['pp', 'tt', 'kk']\n",
            "(387, 24)\n",
            "0.4794053447646996\n",
            "['p', 'f', 't', 's', 'S', 'c', 'k', 'h'] ['bb', 'dd', 'gg']\n",
            "(591, 24)\n",
            "0.5801887291337028\n",
            "['p', 'f', 't', 's', 'S', 'c', 'k', 'h'] ['pp', 'tt', 'kk']\n",
            "(462, 24)\n",
            "0.48536568905884053\n",
            "['b', 'v', 'd', 'z', 'Z', 'g'] ['b', 'd', 'g']\n",
            "(395, 24)\n",
            "0.43064715424670447\n",
            "['b', 'v', 'd', 'z', 'Z', 'g'] ['p', 't', 'k']\n",
            "(364, 24)\n",
            "0.418633527808137\n",
            "['p', 'f', 't', 's', 'S', 'c', 'k', 'h'] ['b', 'd', 'g']\n",
            "(441, 24)\n",
            "0.4353166221220747\n",
            "['p', 'f', 't', 's', 'S', 'c', 'k', 'h'] ['p', 't', 'k']\n",
            "(440, 24)\n",
            "0.42500812790610576\n"
          ],
          "name": "stdout"
        }
      ]
    },
    {
      "cell_type": "code",
      "metadata": {
        "colab": {
          "base_uri": "https://localhost:8080/",
          "height": 417
        },
        "id": "4MXkKqdGZBtM",
        "outputId": "dd800562-a4db-4cfa-f108-813bde98109c"
      },
      "source": [
        "import matplotlib.patheffects as pe\n",
        "\n",
        "matfig = plt.figure(figsize=(20,5))\n",
        "\n",
        "gem_np = np.reshape(gem_ents, (2,2))\n",
        "\n",
        "im = plt.matshow(gem_np, cmap=\"viridis_r\", label=\"Cross Entropy\", fignum=matfig.number, vmin=0.45, vmax=0.6)\n",
        "# good colors - winter_r , viridis_r\n",
        "\n",
        "ax = plt.gca()\n",
        "\n",
        "for i in range(gem_np.shape[0]):\n",
        "    for j in range(gem_np.shape[1]):\n",
        "        text = ax.text(j, i, \"{:.2f}\".format(gem_np[i, j]),\n",
        "                       ha=\"center\", va=\"center\", color=\"w\", fontsize=24)\n",
        "        text.set_path_effects([pe.withStroke(linewidth=4, foreground='k')])\n",
        "\n",
        "\n",
        "\n",
        "\n",
        "cbar = ax.figure.colorbar(im, ax=ax)\n",
        "cbar.ax.set_ylabel(\"Cross-Entropy\", rotation=-90, va=\"bottom\", fontsize=16)\n",
        "\n",
        "#plt.imshow(-np.reshape(means, (5,4)))\n",
        "\n",
        "plt.yticks([0, 1], [\"C1 voiced\", \"C1 voiceless\"], fontsize=16)\n",
        "plt.xticks([0, 1], [\"Gem. voiced\", \"Gem. voiceless\"], fontsize=16, rotation=45)\n",
        "\n",
        "plt.show()\n"
      ],
      "execution_count": 34,
      "outputs": [
        {
          "output_type": "display_data",
          "data": {
            "image/png": "[encoded data removed]",
            "text/plain": [
              "<Figure size 1440x360 with 2 Axes>"
            ]
          },
          "metadata": {
            "tags": [],
            "needs_background": "light"
          }
        }
      ]
    },
    {
      "cell_type": "code",
      "metadata": {
        "colab": {
          "base_uri": "https://localhost:8080/",
          "height": 417
        },
        "id": "WhvLzL4zZhYp",
        "outputId": "356408ae-dafa-472c-b5d7-d0096161bae4"
      },
      "source": [
        "matfig = plt.figure(figsize=(20,5))\n",
        "\n",
        "sing_np = np.reshape(sing_ents, (2,2))\n",
        "\n",
        "im = plt.matshow(sing_np, cmap=\"viridis_r\", label=\"Cross Entropy\", fignum=matfig.number, vmin=0.4, vmax=0.45)\n",
        "# good colors - winter_r , viridis_r\n",
        "\n",
        "ax = plt.gca()\n",
        "\n",
        "for i in range(sing_np.shape[0]):\n",
        "    for j in range(sing_np.shape[1]):\n",
        "        text = ax.text(j, i, \"{:.2f}\".format(sing_np[i, j]),\n",
        "                       ha=\"center\", va=\"center\", color=\"w\", fontsize=24)\n",
        "        text.set_path_effects([pe.withStroke(linewidth=4, foreground='k')])\n",
        "\n",
        "cbar = ax.figure.colorbar(im, ax=ax)\n",
        "cbar.ax.set_ylabel(\"Cross-Entropy\", rotation=-90, va=\"bottom\", fontsize=16)\n",
        "\n",
        "#plt.imshow(-np.reshape(means, (5,4)))\n",
        "\n",
        "plt.yticks([0, 1], [\"C1 voiced\", \"C1 voiceless\"], fontsize=16)\n",
        "plt.xticks([0, 1], [\"Sing. voiced\", \"Sing. voiceless\"], fontsize=16, rotation=45)\n",
        "\n",
        "plt.show()"
      ],
      "execution_count": 35,
      "outputs": [
        {
          "output_type": "display_data",
          "data": {
            "image/png": "[encoded data removed]",
            "text/plain": [
              "<Figure size 1440x360 with 2 Axes>"
            ]
          },
          "metadata": {
            "tags": [],
            "needs_background": "light"
          }
        }
      ]
    }
  ]
}