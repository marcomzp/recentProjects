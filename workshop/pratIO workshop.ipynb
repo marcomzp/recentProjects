{
 "cells": [
  {
   "cell_type": "markdown",
   "metadata": {},
   "source": [
    "# praatIO Workshop \n",
    "\n",
    "### What is praatIO?\n",
    "\"A python library for working with praat, textgrids, time aligned audio transcripts, and audio files. It is primarily used for extracting features from and making manipulations on audio files given hierarchical time-aligned transcriptions (utterance > word > syllable > phone, etc).\"\n",
    "It was developed by Tim Mahrt, a former student of the Linguistics Department at UIUC. \n",
    "In this workshop I will work with some dummy data. This dummy data contains three tiers: phonetic transcription, orthography and syllable. \n",
    "With the script below I will change the time stamps of the phonetic transcription tier, create a new interval tier with /p, t, k/ and also a new point tier with the same sounds. \n",
    "I hope that what is shown here can be used as a starting point for further data analysis of your interest. \n",
    "\n",
    "### Importing libraries and getting file names \n",
    "The lines of code below show how to import the necessary libraries to perform the segmentation proposed here and how to get the file directory and their names. "
   ]
  },
  {
   "cell_type": "code",
   "execution_count": 25,
   "metadata": {},
   "outputs": [
    {
     "name": "stdout",
     "output_type": "stream",
     "text": [
      "/Users/marcofonseca/Library/Mobile Documents/com~apple~CloudDocs/praatIO_wokshop\n",
      "['/Users/marcofonseca/Library/Mobile Documents/com~apple~CloudDocs/praatIO_wokshop/test2.TextGrid', '/Users/marcofonseca/Library/Mobile Documents/com~apple~CloudDocs/praatIO_wokshop/test3.TextGrid', '/Users/marcofonseca/Library/Mobile Documents/com~apple~CloudDocs/praatIO_wokshop/test1.TextGrid']\n"
     ]
    }
   ],
   "source": [
    "from praatio import tgio #Tim Mahrt's library to parse textgrids\n",
    "import os #to get file directory \n",
    "import glob #to get file directories at the same time \n",
    "from collections import namedtuple #named tuples are the type of data structure that \n",
    "#Tim used to represented the tiers.\n",
    "cwd = os.getcwd() #getting current directory \n",
    "files = glob.glob(cwd + '/*TextGrid') #getting names of all textgrid files\n",
    "print(cwd)\n",
    "print(files)"
   ]
  },
  {
   "cell_type": "markdown",
   "metadata": {},
   "source": [
    "### Creating empty lists \n",
    "The line of codes assigns variables that are necessary to perform the data segmentation proposed here.\n",
    "The type of data structure that praatIO uses to represent TextGrids is a name tuple. A tuple is an ordered number of values separated by a comma. Named tuples cannot be assigned, so it is necessary to create a new one to update their values. \n",
    "Lists which will be populated will then be used as input of the named tuples. "
   ]
  },
  {
   "cell_type": "code",
   "execution_count": 63,
   "metadata": {},
   "outputs": [],
   "source": [
    "Interval = namedtuple(\"Interval\", [\"start\", \"end\", \"label\"])\n",
    "Point = namedtuple(\"Point\", [\"time\", \"label\"]) #defining a named a tuple blueprint analogous to a class\n",
    "voicelessPlosiveList = [\"t\", \"k\", \"p\"] #getting a list of plosives \n",
    "plosiveIntervals = [] #creating empty lists to be populated leter. \n",
    "plosiveStartPoints = [] \n",
    "updatedPhonetic = []\n",
    "duration = []"
   ]
  },
  {
   "cell_type": "markdown",
   "metadata": {},
   "source": [
    "### Looping through each text grid "
   ]
  },
  {
   "cell_type": "code",
   "execution_count": 64,
   "metadata": {},
   "outputs": [
    {
     "name": "stdout",
     "output_type": "stream",
     "text": [
      "[Interval(start=0.37650906388920924, end=0.7998951688059928, label='is'), Interval(start=0.7998951688059928, end=1.0468703966741164, label='to'), Interval(start=1.0468703966741164, end=1.399692150771436, label='e'), Interval(start=1.399692150771436, end=1.6334365628609102, label='a'), Interval(start=1.6334365628609102, end=2.1450281063020236, label='te'), Interval(start=2.1450281063020236, end=2.6742607374480025, label='nas'), Interval(start=2.6742607374480025, end=3.185852280889116, label='tes'), Interval(start=3.185852280889116, end=3.446058324535889, label='te')]\n",
      "[Interval(start=0.37650906388920924, end=0.7998951688059928, label='is'), Interval(start=0.7998951688059928, end=1.0468703966741164, label='to'), Interval(start=1.0468703966741164, end=1.399692150771436, label='e'), Interval(start=1.399692150771436, end=1.6334365628609102, label='a'), Interval(start=1.6334365628609102, end=2.1450281063020236, label='ke'), Interval(start=2.1450281063020236, end=2.6742607374480025, label='nas'), Interval(start=2.6742607374480025, end=3.185852280889116, label='tes'), Interval(start=3.185852280889116, end=3.446058324535889, label='te')]\n",
      "[Interval(start=0.37650906388920924, end=0.7998951688059928, label='is'), Interval(start=0.7998951688059928, end=1.0468703966741164, label='to'), Interval(start=1.0468703966741164, end=1.399692150771436, label='e'), Interval(start=1.399692150771436, end=1.6334365628609102, label='a'), Interval(start=1.6334365628609102, end=2.1450281063020236, label='pe'), Interval(start=2.1450281063020236, end=2.6742607374480025, label='nas'), Interval(start=2.6742607374480025, end=3.185852280889116, label='tes'), Interval(start=3.185852280889116, end=3.446058324535889, label='te')]\n"
     ]
    }
   ],
   "source": [
    "for file in files: #looping through all files \n",
    "    tg = tgio.openTextgrid(file) #opening text grid\n",
    "    #print(tg)\n",
    "    #print(tg.tierDict['phonetic_transcription'].entryList)\n",
    "    #print(tg.tierDict['ortography'].entryList)\n",
    "    print(tg.tierDict['syllable'].entryList) "
   ]
  },
  {
   "cell_type": "markdown",
   "metadata": {},
   "source": [
    "### Acessing the start time, end time and label of the text grids. "
   ]
  },
  {
   "cell_type": "code",
   "execution_count": 65,
   "metadata": {},
   "outputs": [],
   "source": [
    "for file in files: #looping through all files \n",
    "    tg = tgio.openTextgrid(file) #opening text grid\n",
    "    phoneticTranscriptionTier = tg.tierDict['phonetic_transcription'] #getting phonetic\n",
    "    #transcription tier. \n",
    "    orthographyTier = tg.tierDict['ortography'] #getting ortography tier.\n",
    "    syllableTier = tg.tierDict['syllable'] #getting syllable tier tier.\n",
    "    #print(orthographyTier.entryList)\n",
    "    #print(phoneticTranscriptionTier.entryList[1].start) #[0].label)\n",
    "    #print(orthographyTier.entryList)\n",
    "    #print(syllableTier.entryList)\n",
    "    #print(phoneticTranscriptionTier.entryList)\n"
   ]
  },
  {
   "cell_type": "markdown",
   "metadata": {},
   "source": [
    "### Adding 0.1 seconds to the Phonetic tier, calculating duration and saving the output"
   ]
  },
  {
   "cell_type": "code",
   "execution_count": 67,
   "metadata": {},
   "outputs": [],
   "source": [
    "for file in files: #looping through all files \n",
    "    tg = tgio.openTextgrid(file) #opening text grid\n",
    "    phoneticTranscriptionTier = tg.tierDict['phonetic_transcription'] #getting phonetic\n",
    "    #transcription tier. \n",
    "    for i in range(len(phoneticTranscriptionTier.entryList)):\n",
    "        current_len = phoneticTranscriptionTier.entryList[i].end - phoneticTranscriptionTier.entryList[i].start\n",
    "        duration.append(current_len) #calculating duration\n",
    "        newInterval = Interval(phoneticTranscriptionTier.entryList[i].start +0.1, phoneticTranscriptionTier.entryList[i].end + 0.1, \n",
    "                              phoneticTranscriptionTier.entryList[i].label) #creating a new\n",
    "        #interval and adding 0.1 seconds to the beginning and the end. \n",
    "        updatedPhonetic.append(newInterval) #appending it to the empty list.\n",
    "\n"
   ]
  },
  {
   "cell_type": "code",
   "execution_count": 60,
   "metadata": {},
   "outputs": [],
   "source": [
    "with open('duratio.txt', 'w') as f: #saving results\n",
    "    f.write(str(duration))"
   ]
  },
  {
   "cell_type": "markdown",
   "metadata": {},
   "source": [
    "### Looking for plosives \n",
    "The code below finds matches for the plosive list that I created ealier. \n",
    "It also populates the named tuples with the plosive points and intervals, in a process similar that was done for adding 0.1 to the phonetic tier. "
   ]
  },
  {
   "cell_type": "code",
   "execution_count": 36,
   "metadata": {},
   "outputs": [
    {
     "name": "stdout",
     "output_type": "stream",
     "text": [
      "[Interval(start=0.7998951688059928, end=0.95425468622357, label='t'), Interval(start=1.6334365628609102, end=1.9421555976960647, label='t'), Interval(start=2.6742607374480025, end=2.855081886422879, label='t'), Interval(start=3.1814420089628994, end=3.3181604386756107, label='t'), Interval(start=0.7998951688059928, end=0.95425468622357, label='t'), Interval(start=2.6742607374480025, end=2.855081886422879, label='t'), Interval(start=3.1814420089628994, end=3.3181604386756107, label='t'), Interval(start=1.6334365628609102, end=1.9421555976960647, label='k'), Interval(start=0.7998951688059928, end=0.95425468622357, label='t'), Interval(start=2.6742607374480025, end=2.855081886422879, label='t'), Interval(start=3.1814420089628994, end=3.3181604386756107, label='t'), Interval(start=1.6334365628609102, end=1.9421555976960647, label='p'), Interval(start=0.7998951688059928, end=0.95425468622357, label='t'), Interval(start=1.6334365628609102, end=1.9421555976960647, label='t'), Interval(start=2.6742607374480025, end=2.855081886422879, label='t'), Interval(start=3.1814420089628994, end=3.3181604386756107, label='t'), Interval(start=0.7998951688059928, end=0.95425468622357, label='t'), Interval(start=2.6742607374480025, end=2.855081886422879, label='t'), Interval(start=3.1814420089628994, end=3.3181604386756107, label='t'), Interval(start=1.6334365628609102, end=1.9421555976960647, label='k'), Interval(start=0.7998951688059928, end=0.95425468622357, label='t'), Interval(start=2.6742607374480025, end=2.855081886422879, label='t'), Interval(start=3.1814420089628994, end=3.3181604386756107, label='t'), Interval(start=1.6334365628609102, end=1.9421555976960647, label='p')]\n",
      "[Point(time=0.7998951688059928, label='t'), Point(time=1.6334365628609102, label='t'), Point(time=2.6742607374480025, label='t'), Point(time=3.1814420089628994, label='t'), Point(time=0.7998951688059928, label='t'), Point(time=2.6742607374480025, label='t'), Point(time=3.1814420089628994, label='t'), Point(time=1.6334365628609102, label='k'), Point(time=0.7998951688059928, label='t'), Point(time=2.6742607374480025, label='t'), Point(time=3.1814420089628994, label='t'), Point(time=1.6334365628609102, label='p'), Point(time=0.7998951688059928, label='t'), Point(time=1.6334365628609102, label='t'), Point(time=2.6742607374480025, label='t'), Point(time=3.1814420089628994, label='t'), Point(time=0.7998951688059928, label='t'), Point(time=2.6742607374480025, label='t'), Point(time=3.1814420089628994, label='t'), Point(time=1.6334365628609102, label='k'), Point(time=0.7998951688059928, label='t'), Point(time=2.6742607374480025, label='t'), Point(time=3.1814420089628994, label='t'), Point(time=1.6334365628609102, label='p')]\n"
     ]
    }
   ],
   "source": [
    "for file in files: #looping through all files \n",
    "    tg = tgio.openTextgrid(file) #opening text grid\n",
    "    phoneticTranscriptionTier = tg.tierDict['phonetic_transcription'] #getting phonetic tier\n",
    "    for name in voicelessPlosiveList: #looping through the \n",
    "        findMatches = phoneticTranscriptionTier.find(name) #matching it with the phonetic tiers\n",
    "        for i in findMatches: #for each match \n",
    "            newInterval = Interval(phoneticTranscriptionTier.entryList[i].start, \n",
    "                                   phoneticTranscriptionTier.entryList[i].end, \n",
    "                    phoneticTranscriptionTier.entryList[i].label) #created a new interval\n",
    "            plosiveIntervals.append(newInterval) #populates the named tuple\n",
    "            newPoint = Point(phoneticTranscriptionTier.entryList[i].start, \n",
    "                             phoneticTranscriptionTier.entryList[i].label) #doing the same thing for \n",
    "            #the point tier  \n",
    "            plosiveStartPoints.append(newPoint)\n",
    "print(plosiveIntervals)\n",
    "print(plosiveStartPoints)"
   ]
  },
  {
   "cell_type": "markdown",
   "metadata": {},
   "source": [
    "### Saving the new tiers\n",
    "Now we will finally save the changes that we made here. This is done by populating the lists with the new point tiers.   "
   ]
  },
  {
   "cell_type": "code",
   "execution_count": 44,
   "metadata": {},
   "outputs": [],
   "source": [
    "for file in files: #looping through all files\n",
    "    tg = tgio.openTextgrid(file) #opening text grid\n",
    "    plosivesTier = tgio.IntervalTier(name = \"plosives_tier\", entryList = plosiveIntervals)\n",
    "    plosivesPointTier = tgio.PointTier(name = \"plosive_point\", entryList = plosiveStartPoints)\n",
    "    newPhoneticTier = tgio.IntervalTier(name = \"phonetic_transcription\", entryList = updatedPhonetic)\n",
    "    tg.replaceTier('phonetic_transcription', newPhoneticTier)\n",
    "    tg.addTier(plosivesTier)\n",
    "    tg.addTier(plosivesPointTier)\n",
    "    tg.save(file)"
   ]
  },
  {
   "cell_type": "code",
   "execution_count": null,
   "metadata": {},
   "outputs": [],
   "source": []
  },
  {
   "cell_type": "code",
   "execution_count": null,
   "metadata": {},
   "outputs": [],
   "source": []
  }
 ],
 "metadata": {
  "kernelspec": {
   "display_name": "Python 3",
   "language": "python",
   "name": "python3"
  },
  "language_info": {
   "codemirror_mode": {
    "name": "ipython",
    "version": 3
   },
   "file_extension": ".py",
   "mimetype": "text/x-python",
   "name": "python",
   "nbconvert_exporter": "python",
   "pygments_lexer": "ipython3",
   "version": "3.6.9"
  }
 },
 "nbformat": 4,
 "nbformat_minor": 2
}
